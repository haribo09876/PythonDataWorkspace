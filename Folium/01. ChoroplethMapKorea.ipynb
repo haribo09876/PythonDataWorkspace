{
 "cells": [
  {
   "cell_type": "markdown",
   "metadata": {},
   "source": [
    "# 1. 시군구별 인구 단계 구분도 생성"
   ]
  },
  {
   "cell_type": "code",
   "execution_count": null,
   "metadata": {},
   "outputs": [],
   "source": [
    "import pandas as pd\n",
    "import json\n",
    "import folium\n",
    "\n",
    "# 시군구 경계 지도 데이터 준비\n",
    "geo = json.load(open('SIG.geojson', encoding = 'UTF-8'))"
   ]
  },
  {
   "cell_type": "code",
   "execution_count": null,
   "metadata": {},
   "outputs": [],
   "source": [
    "# 행정 구역 코드 출력\n",
    "geo['features'][0]['properties']"
   ]
  },
  {
   "cell_type": "code",
   "execution_count": null,
   "metadata": {},
   "outputs": [],
   "source": [
    "# 위도, 경도 좌표 출력\n",
    "geo['features'][0]['geometry']"
   ]
  },
  {
   "cell_type": "code",
   "execution_count": null,
   "metadata": {},
   "outputs": [],
   "source": [
    "# 시군구별 인구 데이터 준비\n",
    "df_pop = pd.read_csv('Population_SIG.csv')\n",
    "df_pop.head()"
   ]
  },
  {
   "cell_type": "code",
   "execution_count": null,
   "metadata": {},
   "outputs": [],
   "source": [
    "df_pop.info()"
   ]
  },
  {
   "cell_type": "code",
   "execution_count": null,
   "metadata": {},
   "outputs": [],
   "source": [
    "# 'code'를 지도 작성에 활용하기 위해 'int64'에서 'str'로 형 변환\n",
    "df_pop['code'] = df_pop['code'].astype(str)"
   ]
  },
  {
   "cell_type": "code",
   "execution_count": null,
   "metadata": {},
   "outputs": [],
   "source": [
    "# 배경지도 생성 / 단계 구분도에 사용할 배경 지도 생성\n",
    "map_sig = folium.Map(location = [35.95, 127.7], # 지도 중심 좌표\n",
    "                      zoom_start= 8,            # 확대 단계\n",
    "                      tiles = 'cartodbpositron') # 지도 종류\n",
    "map_sig"
   ]
  },
  {
   "cell_type": "markdown",
   "metadata": {},
   "source": [
    "- folium.Choropleth()를 이용해 시군구별 인구를 나타낸 단계 구분도를 생성\n",
    "- folium.Choropleth()에는 다음과 같은 파라미터를 입력\n",
    "- geo_date : 지도 데이터\n",
    "- data : 색깔로 표현할 통계 데이터\n",
    "- columns : 통계 데이터의 행정 구역 코드 변수, 색깔로 표현할 변수\n",
    "- key_on : 지도 데이터의 행정 구역 코드\n",
    "- folium.Choropleth()에서 .add_to(map_sig)를 추가하면 앞에서 만든 배경 지오 map_sig에 단계 구분도를 덧씌움\n",
    "- map_sig를 실행하면 시군구 경계가 표시된 지도 생성"
   ]
  },
  {
   "cell_type": "code",
   "execution_count": null,
   "metadata": {},
   "outputs": [],
   "source": [
    "folium.Choropleth(\n",
    "  geo_data = geo,\n",
    "  data = df_pop,\n",
    "  columns = ('code', 'pop'),\n",
    "  key_on = 'feature.properties.SIG_CD').add_to(map_sig)\n",
    "map_sig"
   ]
  },
  {
   "cell_type": "code",
   "execution_count": null,
   "metadata": {},
   "outputs": [],
   "source": [
    "# 계급 구간 설정\n",
    "bins = list(df_pop['pop'].quantile([0, 0.2, 0.4, 0.6, 0.8, 1]))\n",
    "bins"
   ]
  },
  {
   "cell_type": "code",
   "execution_count": null,
   "metadata": {},
   "outputs": [],
   "source": [
    "# 디자인 수정\n",
    "# 배경 지도 생성\n",
    "map_sig = folium.Map(location = [35.95, 127.7], # 지도 중심 좌표\n",
    "                     zoom_start = 8,            # 확대 단계\n",
    "                     tiles = 'cartodbpositron') # 지도 종류"
   ]
  },
  {
   "cell_type": "code",
   "execution_count": null,
   "metadata": {},
   "outputs": [],
   "source": [
    "# 단계 구분도 생성\n",
    "folium.Choropleth(\n",
    "  geo_data = geo,\n",
    "  data = df_pop,\n",
    "  columns = ('code', 'pop'),\n",
    "  key_on = 'feature.properties.SIG_CD',\n",
    "  fill_color = 'YlGnBu',\n",
    "  fill_opacity = 1,\n",
    "  line_opacity = 0.5,\n",
    "  bins = bins).add_to(map_sig)\n",
    "map_sig"
   ]
  },
  {
   "cell_type": "code",
   "execution_count": null,
   "metadata": {},
   "outputs": [],
   "source": [
    "# HTML 형식으로 저장\n",
    "map_sig.save('map_sig.html')\n",
    "\n",
    "# 웹 브라우저에서 html 파일 실생\n",
    "import webbrowser\n",
    "webbrowser.open_new('map_sig.html')"
   ]
  }
 ],
 "metadata": {
  "kernelspec": {
   "display_name": "Python 3",
   "language": "python",
   "name": "python3"
  },
  "language_info": {
   "codemirror_mode": {
    "name": "ipython",
    "version": 3
   },
   "file_extension": ".py",
   "mimetype": "text/x-python",
   "name": "python",
   "nbconvert_exporter": "python",
   "pygments_lexer": "ipython3",
   "version": "3.11.0"
  }
 },
 "nbformat": 4,
 "nbformat_minor": 2
}
